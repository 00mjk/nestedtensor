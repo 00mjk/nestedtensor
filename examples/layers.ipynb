{
 "cells": [
  {
   "cell_type": "code",
   "execution_count": 1,
   "metadata": {},
   "outputs": [],
   "source": [
    "from nestedtensor import torch\n",
    "from IPython.display import Markdown, display\n",
    "\n",
    "def print_eval(s):\n",
    "    colorS = \"<span style='color:darkred'>$ {}</span>\".format(s)\n",
    "    display(Markdown('**{}**'.format(colorS))) \n",
    "    print('{}\\n'.format(str(eval(s))))"
   ]
  },
  {
   "cell_type": "markdown",
   "metadata": {},
   "source": [
    "## Custom nn.functionals\n",
    "\n",
    "By default all nn.functionals are implemented as a tensorwise function. However, in some cases we want to support custom semantics that come about by slight modifications to the lifted function. Take nn.functional.conv2d as an example.\n",
    "\n"
   ]
  },
  {
   "cell_type": "code",
   "execution_count": 2,
   "metadata": {},
   "outputs": [
    {
     "data": {
      "text/markdown": [
       "**<span style='color:darkred'>$ nt.size()</span>**"
      ],
      "text/plain": [
       "<IPython.core.display.Markdown object>"
      ]
     },
     "metadata": {},
     "output_type": "display_data"
    },
    {
     "name": "stdout",
     "output_type": "stream",
     "text": [
      "(3, 3, None, None)\n",
      "\n"
     ]
    }
   ],
   "source": [
    "nt = torch.nested_tensor([\n",
    "    torch.rand(3, 10, 30),\n",
    "    torch.rand(3, 20, 40),\n",
    "    torch.rand(3, 30, 50)\n",
    "])\n",
    "nt1 = torch.nested_tensor([\n",
    "    torch.rand(1, 3, 10, 30),\n",
    "    torch.rand(1, 3, 20, 40),\n",
    "    torch.rand(1, 3, 30, 50)\n",
    "])\n",
    "weight = torch.rand(64, 3, 7, 7)\n",
    "print_eval(\"nt.size()\")"
   ]
  },
  {
   "cell_type": "markdown",
   "metadata": {},
   "source": [
    "By default this function fails, because the components do not have a batch dimension."
   ]
  },
  {
   "cell_type": "code",
   "execution_count": 3,
   "metadata": {},
   "outputs": [
    {
     "data": {
      "text/markdown": [
       "**<span style='color:darkred'>$ torch.tensorwise()(torch.nn.functional.conv2d)(nt, weight)</span>**"
      ],
      "text/plain": [
       "<IPython.core.display.Markdown object>"
      ]
     },
     "metadata": {},
     "output_type": "display_data"
    },
    {
     "data": {
      "text/markdown": [
       "**<span style='color:darkred'>$ str(e)</span>**"
      ],
      "text/plain": [
       "<IPython.core.display.Markdown object>"
      ]
     },
     "metadata": {},
     "output_type": "display_data"
    },
    {
     "name": "stdout",
     "output_type": "stream",
     "text": [
      "Expected 4-dimensional input for 4-dimensional weight 64 3 7 7, but got 3-dimensional input of size [3, 10, 30] instead\n",
      "\n"
     ]
    },
    {
     "data": {
      "text/markdown": [
       "**<span style='color:darkred'>$ torch.tensorwise()(torch.nn.functional.conv2d)(nt1, weight).size()</span>**"
      ],
      "text/plain": [
       "<IPython.core.display.Markdown object>"
      ]
     },
     "metadata": {},
     "output_type": "display_data"
    },
    {
     "name": "stdout",
     "output_type": "stream",
     "text": [
      "(3, 1, 64, None, None)\n",
      "\n"
     ]
    }
   ],
   "source": [
    "try:\n",
    "    print_eval(\"torch.tensorwise()(torch.nn.functional.conv2d)(nt, weight)\")\n",
    "except RuntimeError as e:\n",
    "    print_eval(\"str(e)\")\n",
    "    \n",
    "print_eval(\"torch.tensorwise()(torch.nn.functional.conv2d)(nt1, weight).size()\")"
   ]
  },
  {
   "cell_type": "markdown",
   "metadata": {},
   "source": [
    "However, NestedTensors implement a version of conv2d that doesn't require a batch dimension for ease of use and for efficiency (more on that later)."
   ]
  },
  {
   "cell_type": "code",
   "execution_count": 4,
   "metadata": {},
   "outputs": [
    {
     "data": {
      "text/markdown": [
       "**<span style='color:darkred'>$ torch.nn.functional.conv2d(nt, weight).size()</span>**"
      ],
      "text/plain": [
       "<IPython.core.display.Markdown object>"
      ]
     },
     "metadata": {},
     "output_type": "display_data"
    },
    {
     "name": "stdout",
     "output_type": "stream",
     "text": [
      "(3, 64, None, None)\n",
      "\n"
     ]
    }
   ],
   "source": [
    "print_eval(\"torch.nn.functional.conv2d(nt, weight).size()\")"
   ]
  },
  {
   "cell_type": "markdown",
   "metadata": {},
   "source": [
    "We have a similar story for nn.functional.embedding_bag. The lifted version only works on elements of batch size 1, unless given an offset, which is an unnecessary annoyance. We extend the lifted embedding_bag to support inputs of dimension 1, if offset is set to None."
   ]
  },
  {
   "cell_type": "code",
   "execution_count": 5,
   "metadata": {},
   "outputs": [],
   "source": [
    "nt2 = (torch.nested_tensor([\n",
    "    torch.rand(1, 30),\n",
    "    torch.rand(1, 40),\n",
    "    torch.rand(1, 50)\n",
    "]) * 10).to(torch.int64)\n",
    "nt3 = (torch.nested_tensor([\n",
    "    torch.rand(30),\n",
    "    torch.rand(40),\n",
    "    torch.rand(50)\n",
    "]) * 10).to(torch.int64)\n",
    "nt4 = (torch.nested_tensor([\n",
    "    [\n",
    "        torch.rand(1, 30),\n",
    "    ],\n",
    "    [\n",
    "        torch.rand(1, 40),\n",
    "        torch.rand(1, 50)\n",
    "    ]\n",
    "]) * 10).to(torch.int64)\n"
   ]
  },
  {
   "cell_type": "code",
   "execution_count": 6,
   "metadata": {},
   "outputs": [
    {
     "data": {
      "text/markdown": [
       "**<span style='color:darkred'>$ torch.nn.functional.embedding_bag(nt2, weight).nested_size()</span>**"
      ],
      "text/plain": [
       "<IPython.core.display.Markdown object>"
      ]
     },
     "metadata": {},
     "output_type": "display_data"
    },
    {
     "name": "stdout",
     "output_type": "stream",
     "text": [
      "torch.NestedSize((\n",
      "\ttorch.Size([1, 256]),\n",
      "\ttorch.Size([1, 256]),\n",
      "\ttorch.Size([1, 256])\n",
      "))\n",
      "\n"
     ]
    },
    {
     "data": {
      "text/markdown": [
       "**<span style='color:darkred'>$ torch.nn.functional.embedding_bag(nt3, weight).nested_size()</span>**"
      ],
      "text/plain": [
       "<IPython.core.display.Markdown object>"
      ]
     },
     "metadata": {},
     "output_type": "display_data"
    },
    {
     "name": "stdout",
     "output_type": "stream",
     "text": [
      "torch.NestedSize((\n",
      "\ttorch.Size([256]),\n",
      "\ttorch.Size([256]),\n",
      "\ttorch.Size([256])\n",
      "))\n",
      "\n"
     ]
    },
    {
     "data": {
      "text/markdown": [
       "**<span style='color:darkred'>$ torch.nn.functional.embedding_bag(nt4, weight).nested_size()</span>**"
      ],
      "text/plain": [
       "<IPython.core.display.Markdown object>"
      ]
     },
     "metadata": {},
     "output_type": "display_data"
    },
    {
     "name": "stdout",
     "output_type": "stream",
     "text": [
      "torch.NestedSize((\n",
      "\t(\n",
      "\t\ttorch.Size([1, 256])\n",
      "\t),\n",
      "\t(\n",
      "\t\ttorch.Size([1, 256]),\n",
      "\t\ttorch.Size([1, 256])\n",
      "\t)\n",
      "))\n",
      "\n"
     ]
    },
    {
     "data": {
      "text/markdown": [
       "**<span style='color:darkred'>$ torch.nn.EmbeddingBag(100, 256)(nt2).nested_size()</span>**"
      ],
      "text/plain": [
       "<IPython.core.display.Markdown object>"
      ]
     },
     "metadata": {},
     "output_type": "display_data"
    },
    {
     "name": "stdout",
     "output_type": "stream",
     "text": [
      "torch.NestedSize((\n",
      "\ttorch.Size([1, 256]),\n",
      "\ttorch.Size([1, 256]),\n",
      "\ttorch.Size([1, 256])\n",
      "))\n",
      "\n"
     ]
    },
    {
     "data": {
      "text/markdown": [
       "**<span style='color:darkred'>$ torch.nn.EmbeddingBag(100, 256)(nt3).nested_size()</span>**"
      ],
      "text/plain": [
       "<IPython.core.display.Markdown object>"
      ]
     },
     "metadata": {},
     "output_type": "display_data"
    },
    {
     "name": "stdout",
     "output_type": "stream",
     "text": [
      "torch.NestedSize((\n",
      "\ttorch.Size([256]),\n",
      "\ttorch.Size([256]),\n",
      "\ttorch.Size([256])\n",
      "))\n",
      "\n"
     ]
    },
    {
     "data": {
      "text/markdown": [
       "**<span style='color:darkred'>$ torch.nn.EmbeddingBag(100, 256)(nt4).nested_size()</span>**"
      ],
      "text/plain": [
       "<IPython.core.display.Markdown object>"
      ]
     },
     "metadata": {},
     "output_type": "display_data"
    },
    {
     "name": "stdout",
     "output_type": "stream",
     "text": [
      "torch.NestedSize((\n",
      "\t(\n",
      "\t\ttorch.Size([1, 256])\n",
      "\t),\n",
      "\t(\n",
      "\t\ttorch.Size([1, 256]),\n",
      "\t\ttorch.Size([1, 256])\n",
      "\t)\n",
      "))\n",
      "\n"
     ]
    }
   ],
   "source": [
    "weight = torch.rand(100, 256)\n",
    "print_eval(\"torch.nn.functional.embedding_bag(nt2, weight).nested_size()\")\n",
    "print_eval(\"torch.nn.functional.embedding_bag(nt3, weight).nested_size()\")\n",
    "print_eval(\"torch.nn.functional.embedding_bag(nt4, weight).nested_size()\")\n",
    "print_eval(\"torch.nn.EmbeddingBag(100, 256)(nt2).nested_size()\")\n",
    "print_eval(\"torch.nn.EmbeddingBag(100, 256)(nt3).nested_size()\")\n",
    "print_eval(\"torch.nn.EmbeddingBag(100, 256)(nt4).nested_size()\")"
   ]
  },
  {
   "cell_type": "code",
   "execution_count": 7,
   "metadata": {},
   "outputs": [
    {
     "data": {
      "text/markdown": [
       "**<span style='color:darkred'>$ nt3</span>**"
      ],
      "text/plain": [
       "<IPython.core.display.Markdown object>"
      ]
     },
     "metadata": {},
     "output_type": "display_data"
    },
    {
     "name": "stdout",
     "output_type": "stream",
     "text": [
      "nested_tensor([\n",
      "\ttensor([3., 9., 4., 9., 7., 5., 0., 4., 4., 6., 7., 4., 4., 9., 0., 4., 9., 2.,\n",
      "\t        4., 4., 7., 3., 1., 7., 4., 1., 7., 1., 8., 9.]),\n",
      "\ttensor([5., 2., 6., 3., 9., 2., 9., 6., 7., 8., 0., 4., 5., 7., 3., 0., 5., 4.,\n",
      "\t        2., 5., 0., 8., 1., 8., 8., 0., 4., 8., 5., 8., 3., 2., 6., 8., 0., 3.,\n",
      "\t        8., 3., 7., 5.]),\n",
      "\ttensor([2., 0., 5., 1., 1., 7., 9., 3., 7., 1., 6., 2., 2., 4., 5., 2., 5., 2.,\n",
      "\t        4., 6., 7., 1., 0., 2., 4., 7., 8., 2., 1., 1., 4., 7., 1., 4., 9., 6.,\n",
      "\t        1., 6., 0., 2., 1., 6., 8., 7., 1., 5., 0., 4., 7., 0.])\n",
      "])\n",
      "\n"
     ]
    },
    {
     "data": {
      "text/markdown": [
       "**<span style='color:darkred'>$ nt3.size()</span>**"
      ],
      "text/plain": [
       "<IPython.core.display.Markdown object>"
      ]
     },
     "metadata": {},
     "output_type": "display_data"
    },
    {
     "name": "stdout",
     "output_type": "stream",
     "text": [
      "(3, None)\n",
      "\n"
     ]
    },
    {
     "data": {
      "text/markdown": [
       "**<span style='color:darkred'>$ nt3.nested_size()</span>**"
      ],
      "text/plain": [
       "<IPython.core.display.Markdown object>"
      ]
     },
     "metadata": {},
     "output_type": "display_data"
    },
    {
     "name": "stdout",
     "output_type": "stream",
     "text": [
      "torch.NestedSize((\n",
      "\ttorch.Size([30]),\n",
      "\ttorch.Size([40]),\n",
      "\ttorch.Size([50])\n",
      "))\n",
      "\n"
     ]
    },
    {
     "data": {
      "text/markdown": [
       "**<span style='color:darkred'>$ torch.nested_tensor(nt3.nested_size(1))</span>**"
      ],
      "text/plain": [
       "<IPython.core.display.Markdown object>"
      ]
     },
     "metadata": {},
     "output_type": "display_data"
    },
    {
     "name": "stdout",
     "output_type": "stream",
     "text": [
      "nested_tensor([\n",
      "\ttensor(30),\n",
      "\ttensor(40),\n",
      "\ttensor(50)\n",
      "])\n",
      "\n"
     ]
    },
    {
     "data": {
      "text/markdown": [
       "**<span style='color:darkred'>$ nt4</span>**"
      ],
      "text/plain": [
       "<IPython.core.display.Markdown object>"
      ]
     },
     "metadata": {},
     "output_type": "display_data"
    },
    {
     "name": "stdout",
     "output_type": "stream",
     "text": [
      "nested_tensor([\n",
      "\ttensor([0.1000, 0.3000, 0.1333, 0.3000, 0.2333, 0.1667, 0.0000, 0.1333, 0.1333,\n",
      "\t        0.2000, 0.2333, 0.1333, 0.1333, 0.3000, 0.0000, 0.1333, 0.3000, 0.0667,\n",
      "\t        0.1333, 0.1333, 0.2333, 0.1000, 0.0333, 0.2333, 0.1333, 0.0333, 0.2333,\n",
      "\t        0.0333, 0.2667, 0.3000]),\n",
      "\ttensor([0.1250, 0.0500, 0.1500, 0.0750, 0.2250, 0.0500, 0.2250, 0.1500, 0.1750,\n",
      "\t        0.2000, 0.0000, 0.1000, 0.1250, 0.1750, 0.0750, 0.0000, 0.1250, 0.1000,\n",
      "\t        0.0500, 0.1250, 0.0000, 0.2000, 0.0250, 0.2000, 0.2000, 0.0000, 0.1000,\n",
      "\t        0.2000, 0.1250, 0.2000, 0.0750, 0.0500, 0.1500, 0.2000, 0.0000, 0.0750,\n",
      "\t        0.2000, 0.0750, 0.1750, 0.1250]),\n",
      "\ttensor([0.0400, 0.0000, 0.1000, 0.0200, 0.0200, 0.1400, 0.1800, 0.0600, 0.1400,\n",
      "\t        0.0200, 0.1200, 0.0400, 0.0400, 0.0800, 0.1000, 0.0400, 0.1000, 0.0400,\n",
      "\t        0.0800, 0.1200, 0.1400, 0.0200, 0.0000, 0.0400, 0.0800, 0.1400, 0.1600,\n",
      "\t        0.0400, 0.0200, 0.0200, 0.0800, 0.1400, 0.0200, 0.0800, 0.1800, 0.1200,\n",
      "\t        0.0200, 0.1200, 0.0000, 0.0400, 0.0200, 0.1200, 0.1600, 0.1400, 0.0200,\n",
      "\t        0.1000, 0.0000, 0.0800, 0.1400, 0.0000])\n",
      "])\n",
      "\n"
     ]
    },
    {
     "data": {
      "text/markdown": [
       "**<span style='color:darkred'>$ nt4.size()</span>**"
      ],
      "text/plain": [
       "<IPython.core.display.Markdown object>"
      ]
     },
     "metadata": {},
     "output_type": "display_data"
    },
    {
     "name": "stdout",
     "output_type": "stream",
     "text": [
      "(3, None)\n",
      "\n"
     ]
    }
   ],
   "source": [
    "nt3 = nt3.float()\n",
    "print_eval(\"nt3\")\n",
    "print_eval(\"nt3.size()\")\n",
    "print_eval(\"nt3.nested_size()\")\n",
    "print_eval(\"torch.nested_tensor(nt3.nested_size(1))\")\n",
    "nt4 = nt3 / torch.nested_tensor(nt3.nested_size(1))\n",
    "print_eval(\"nt4\")\n",
    "print_eval(\"nt4.size()\")"
   ]
  },
  {
   "cell_type": "code",
   "execution_count": 8,
   "metadata": {},
   "outputs": [
    {
     "data": {
      "text/markdown": [
       "**<span style='color:darkred'>$ nt5.nested_size()</span>**"
      ],
      "text/plain": [
       "<IPython.core.display.Markdown object>"
      ]
     },
     "metadata": {},
     "output_type": "display_data"
    },
    {
     "name": "stdout",
     "output_type": "stream",
     "text": [
      "torch.NestedSize((\n",
      "\ttorch.Size([30, 10]),\n",
      "\ttorch.Size([40, 10]),\n",
      "\ttorch.Size([50, 10])\n",
      "))\n",
      "\n"
     ]
    },
    {
     "data": {
      "text/markdown": [
       "**<span style='color:darkred'>$ torch.mm(nt5, torch.rand(10, 5)).nested_size()</span>**"
      ],
      "text/plain": [
       "<IPython.core.display.Markdown object>"
      ]
     },
     "metadata": {},
     "output_type": "display_data"
    },
    {
     "name": "stdout",
     "output_type": "stream",
     "text": [
      "torch.NestedSize((\n",
      "\ttorch.Size([30, 5]),\n",
      "\ttorch.Size([40, 5]),\n",
      "\ttorch.Size([50, 5])\n",
      "))\n",
      "\n"
     ]
    }
   ],
   "source": [
    "nt5 = torch.nested_tensor([\n",
    "    torch.rand(30, 10),\n",
    "    torch.rand(40, 10),\n",
    "    torch.rand(50, 10)\n",
    "])\n",
    "print_eval(\"nt5.nested_size()\")\n",
    "print_eval(\"torch.mm(nt5, torch.rand(10, 5)).nested_size()\")"
   ]
  },
  {
   "cell_type": "code",
   "execution_count": 9,
   "metadata": {},
   "outputs": [
    {
     "data": {
      "text/markdown": [
       "**<span style='color:darkred'>$ nt5.argmax(1)</span>**"
      ],
      "text/plain": [
       "<IPython.core.display.Markdown object>"
      ]
     },
     "metadata": {},
     "output_type": "display_data"
    },
    {
     "name": "stdout",
     "output_type": "stream",
     "text": [
      "nested_tensor([\n",
      "\ttensor([21,  0, 24, 12, 16, 10, 21, 20,  5, 20]),\n",
      "\ttensor([ 4,  1, 31,  2, 15, 25,  0,  2, 32, 19]),\n",
      "\ttensor([42,  6, 14, 34, 42, 11, 48, 13, 36, 41])\n",
      "])\n",
      "\n"
     ]
    },
    {
     "data": {
      "text/markdown": [
       "**<span style='color:darkred'>$ nt5.argmax(1).size()</span>**"
      ],
      "text/plain": [
       "<IPython.core.display.Markdown object>"
      ]
     },
     "metadata": {},
     "output_type": "display_data"
    },
    {
     "name": "stdout",
     "output_type": "stream",
     "text": [
      "(3, 10)\n",
      "\n"
     ]
    },
    {
     "data": {
      "text/markdown": [
       "**<span style='color:darkred'>$ nt5.argmax(1).to_tensor()</span>**"
      ],
      "text/plain": [
       "<IPython.core.display.Markdown object>"
      ]
     },
     "metadata": {},
     "output_type": "display_data"
    },
    {
     "name": "stdout",
     "output_type": "stream",
     "text": [
      "tensor([[21,  0, 24, 12, 16, 10, 21, 20,  5, 20],\n",
      "        [ 4,  1, 31,  2, 15, 25,  0,  2, 32, 19],\n",
      "        [42,  6, 14, 34, 42, 11, 48, 13, 36, 41]])\n",
      "\n"
     ]
    }
   ],
   "source": [
    "print_eval(\"nt5.argmax(1)\")\n",
    "print_eval(\"nt5.argmax(1).size()\")\n",
    "print_eval(\"nt5.argmax(1).to_tensor()\")"
   ]
  },
  {
   "cell_type": "code",
   "execution_count": 10,
   "metadata": {},
   "outputs": [
    {
     "data": {
      "text/markdown": [
       "**<span style='color:darkred'>$ nt5.nested_size()</span>**"
      ],
      "text/plain": [
       "<IPython.core.display.Markdown object>"
      ]
     },
     "metadata": {},
     "output_type": "display_data"
    },
    {
     "name": "stdout",
     "output_type": "stream",
     "text": [
      "torch.NestedSize((\n",
      "\ttorch.Size([30, 10]),\n",
      "\ttorch.Size([40, 10]),\n",
      "\ttorch.Size([50, 10])\n",
      "))\n",
      "\n"
     ]
    },
    {
     "data": {
      "text/markdown": [
       "**<span style='color:darkred'>$ nt5.argmax(2).nested_size()</span>**"
      ],
      "text/plain": [
       "<IPython.core.display.Markdown object>"
      ]
     },
     "metadata": {},
     "output_type": "display_data"
    },
    {
     "name": "stdout",
     "output_type": "stream",
     "text": [
      "torch.NestedSize((\n",
      "\ttorch.Size([30]),\n",
      "\ttorch.Size([40]),\n",
      "\ttorch.Size([50])\n",
      "))\n",
      "\n"
     ]
    },
    {
     "data": {
      "text/markdown": [
       "**<span style='color:darkred'>$ torch.nn.functional.cross_entropy(nt5, nt5.argmax(2))</span>**"
      ],
      "text/plain": [
       "<IPython.core.display.Markdown object>"
      ]
     },
     "metadata": {},
     "output_type": "display_data"
    },
    {
     "name": "stdout",
     "output_type": "stream",
     "text": [
      "nested_tensor([\n",
      "\ttensor(1.9496),\n",
      "\ttensor(1.9408),\n",
      "\ttensor(1.9305)\n",
      "])\n",
      "\n"
     ]
    }
   ],
   "source": [
    "print_eval(\"nt5.nested_size()\")\n",
    "print_eval(\"nt5.argmax(2).nested_size()\")\n",
    "print_eval(\"torch.nn.functional.cross_entropy(nt5, nt5.argmax(2))\")"
   ]
  },
  {
   "cell_type": "code",
   "execution_count": 11,
   "metadata": {},
   "outputs": [
    {
     "data": {
      "text/markdown": [
       "**<span style='color:darkred'>$ nt6.lu()[0].size()</span>**"
      ],
      "text/plain": [
       "<IPython.core.display.Markdown object>"
      ]
     },
     "metadata": {},
     "output_type": "display_data"
    },
    {
     "name": "stdout",
     "output_type": "stream",
     "text": [
      "(3, None, None)\n",
      "\n"
     ]
    },
    {
     "data": {
      "text/markdown": [
       "**<span style='color:darkred'>$ nt6.lu()[1].size()</span>**"
      ],
      "text/plain": [
       "<IPython.core.display.Markdown object>"
      ]
     },
     "metadata": {},
     "output_type": "display_data"
    },
    {
     "name": "stdout",
     "output_type": "stream",
     "text": [
      "(3, None)\n",
      "\n"
     ]
    }
   ],
   "source": [
    "nt6 = torch.nested_tensor([torch.rand(10, 10), torch.rand(20, 20), torch.rand(30, 30)])\n",
    "print_eval(\"nt6.lu()[0].size()\")\n",
    "print_eval(\"nt6.lu()[1].size()\")"
   ]
  },
  {
   "cell_type": "code",
   "execution_count": 12,
   "metadata": {},
   "outputs": [
    {
     "data": {
      "text/markdown": [
       "**<span style='color:darkred'>$ torch.mm(nt7, nt8)</span>**"
      ],
      "text/plain": [
       "<IPython.core.display.Markdown object>"
      ]
     },
     "metadata": {},
     "output_type": "display_data"
    },
    {
     "name": "stdout",
     "output_type": "stream",
     "text": [
      "nested_tensor([\n",
      "\t[\n",
      "\t\ttensor([[3.0984]]),\n",
      "\t\ttensor([[5.3822, 5.3800],\n",
      "\t\t        [4.8560, 5.2896]])\n",
      "\t],\n",
      "\t[\n",
      "\t\ttensor([[9.7878, 5.3839, 7.7967],\n",
      "\t\t        [8.1811, 6.1959, 7.1056],\n",
      "\t\t        [8.6106, 5.1237, 6.6942]])\n",
      "\t]\n",
      "])\n",
      "\n"
     ]
    }
   ],
   "source": [
    "nt7 = torch.nested_tensor([[torch.rand(1, 10), torch.rand(2, 20)], [torch.rand(3, 30)]])\n",
    "nt8 = torch.nested_tensor([[torch.rand(10, 1), torch.rand(20, 2)], [torch.rand(30, 3)]])\n",
    "print_eval(\"torch.mm(nt7, nt8)\")"
   ]
  },
  {
   "cell_type": "code",
   "execution_count": null,
   "metadata": {},
   "outputs": [],
   "source": []
  }
 ],
 "metadata": {
  "kernelspec": {
   "display_name": "Python 3",
   "language": "python",
   "name": "python3"
  },
  "language_info": {
   "codemirror_mode": {
    "name": "ipython",
    "version": 3
   },
   "file_extension": ".py",
   "mimetype": "text/x-python",
   "name": "python",
   "nbconvert_exporter": "python",
   "pygments_lexer": "ipython3",
   "version": "3.7.5"
  }
 },
 "nbformat": 4,
 "nbformat_minor": 2
}
